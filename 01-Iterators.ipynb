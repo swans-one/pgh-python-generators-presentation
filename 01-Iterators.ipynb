{
 "cells": [
  {
   "cell_type": "markdown",
   "metadata": {},
   "source": [
    "# Iterators\n",
    "\n",
    "You don't have to use python for long to come across for loops. You can loop over all sorts of objects in python, lists, dictionaries, strings. Many more specialized objects have methods you can call to loop over. For example, if you have a pandas `DataFrame` instance, you can use `for row in my_df.iterrows()` to iterate over its rows."
   ]
  },
  {
   "cell_type": "code",
   "execution_count": 1,
   "metadata": {},
   "outputs": [
    {
     "name": "stdout",
     "output_type": "stream",
     "text": [
      "1\n",
      "2\n",
      "3\n"
     ]
    }
   ],
   "source": [
    "my_list = [1, 2, 3]\n",
    "for x in my_list:\n",
    "    print(x)"
   ]
  },
  {
   "cell_type": "markdown",
   "metadata": {},
   "source": [
    "# But how do they work?\n",
    "\n",
    "Any object in python can be iterated over if it follows the iteration protocol laid out in PEP 234 (https://www.python.org/dev/peps/pep-0234/). An object should implement a method `__iter__` which takes no arguments and returns another object that implements a `__next__` method, which returns the next item in the sequence. When the sequence is exhausted, `__next__` should raise `StopIteration`.\n",
    "\n",
    "In some cases, the object returned by `__iter__` may be the same object it was called on (`return self`), other times, as in the example below, it could be a new object created just for the purpose of iteration."
   ]
  },
  {
   "cell_type": "code",
   "execution_count": 2,
   "metadata": {},
   "outputs": [
    {
     "name": "stdout",
     "output_type": "stream",
     "text": [
      "Type: <class 'list_iterator'>\n",
      "1\n",
      "2\n",
      "3\n"
     ]
    }
   ],
   "source": [
    "my_iter = my_list.__iter__()\n",
    "\n",
    "print(\"Type:\", type(my_iter))\n",
    "\n",
    "print(my_iter.__next__())\n",
    "print(my_iter.__next__())\n",
    "print(my_iter.__next__())\n"
   ]
  },
  {
   "cell_type": "markdown",
   "metadata": {},
   "source": [
    "# StopIteration\n",
    "\n",
    "While a for loop will handle the `StopIteration` exception and know to terminate the loop, if we reach the end of the iterator outside of a for loop, we can see the exception as it's raised."
   ]
  },
  {
   "cell_type": "code",
   "execution_count": 3,
   "metadata": {},
   "outputs": [
    {
     "ename": "StopIteration",
     "evalue": "",
     "output_type": "error",
     "traceback": [
      "\u001b[0;31m---------------------------------------------------------------------------\u001b[0m",
      "\u001b[0;31mStopIteration\u001b[0m                             Traceback (most recent call last)",
      "\u001b[0;32m<ipython-input-3-4091dee71d9f>\u001b[0m in \u001b[0;36m<module>\u001b[0;34m()\u001b[0m\n\u001b[0;32m----> 1\u001b[0;31m \u001b[0mprint\u001b[0m\u001b[0;34m(\u001b[0m\u001b[0mmy_iter\u001b[0m\u001b[0;34m.\u001b[0m\u001b[0m__next__\u001b[0m\u001b[0;34m(\u001b[0m\u001b[0;34m)\u001b[0m\u001b[0;34m)\u001b[0m\u001b[0;34m\u001b[0m\u001b[0m\n\u001b[0m",
      "\u001b[0;31mStopIteration\u001b[0m: "
     ]
    }
   ],
   "source": [
    "print(my_iter.__next__())"
   ]
  },
  {
   "cell_type": "markdown",
   "metadata": {},
   "source": [
    "# Don't actually call the `__next__` and `__iter__` methods though\n",
    "\n",
    "I showed these methods to display how any object in python can implement the interface. For actual use, Python has builtin functions `next` and `iter` that you should use."
   ]
  },
  {
   "cell_type": "code",
   "execution_count": 4,
   "metadata": {},
   "outputs": [
    {
     "name": "stdout",
     "output_type": "stream",
     "text": [
      "Type: <class 'list_iterator'>\n",
      "1\n",
      "2\n",
      "3\n"
     ]
    }
   ],
   "source": [
    "my_iter = iter(my_list)\n",
    "print(\"Type:\", type(my_iter))\n",
    "\n",
    "print(next(my_iter))\n",
    "print(next(my_iter))\n",
    "print(next(my_iter))"
   ]
  },
  {
   "cell_type": "code",
   "execution_count": null,
   "metadata": {},
   "outputs": [],
   "source": []
  }
 ],
 "metadata": {
  "kernelspec": {
   "display_name": "Python 3",
   "language": "python",
   "name": "python3"
  },
  "language_info": {
   "codemirror_mode": {
    "name": "ipython",
    "version": 3
   },
   "file_extension": ".py",
   "mimetype": "text/x-python",
   "name": "python",
   "nbconvert_exporter": "python",
   "pygments_lexer": "ipython3",
   "version": "3.5.2"
  }
 },
 "nbformat": 4,
 "nbformat_minor": 2
}
