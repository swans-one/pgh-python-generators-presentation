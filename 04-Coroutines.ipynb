{
 "cells": [
  {
   "cell_type": "markdown",
   "metadata": {},
   "source": [
    "# Coroutines\n",
    "\n",
    "A coroutine is a type of subroutine which can have multiple entry and exit points. They're useful for a number of concurrency patterns.\n",
    "\n",
    "Python introduced coroutines as \"Enhanced Generators\" in PEP 342 (https://www.python.org/dev/peps/pep-0342/), by introducing the \"yield expression\". That is by making it possible to have `yield` on the right hand side of assignment."
   ]
  },
  {
   "cell_type": "code",
   "execution_count": 1,
   "metadata": {},
   "outputs": [],
   "source": [
    "def print_if_error(error_is=\"error\"):\n",
    "    while True:\n",
    "        line = yield\n",
    "        if line.startswith(error_is):\n",
    "            print(line)"
   ]
  },
  {
   "cell_type": "markdown",
   "metadata": {},
   "source": [
    "# Sending values\n",
    "\n",
    "When using a yield expression, the coroutine receives a value through a call to its `send` method. Like `next`, sending a value progresses to the next `yield` and suspends execution. In fact, given an instance of a generator, say `my_gen`, calling `next(my_gen)` is the same as `my_gen.send(None)`.\n",
    "\n",
    "Also note that before a value can be sent to a coroutine, it must be initialized with a call to `next`. This can be automated with a decorator."
   ]
  },
  {
   "cell_type": "code",
   "execution_count": 2,
   "metadata": {},
   "outputs": [
    {
     "name": "stdout",
     "output_type": "stream",
     "text": [
      "[ERR]: The user has unsubscribed from cat facts!\n",
      "[ERR]: 0 users are subscribed\n"
     ]
    }
   ],
   "source": [
    "logs = [\n",
    "    \"[WARN]: A new user subscribed to cat facts!\",\n",
    "    \"[INFO]: Todays fact: Adult cats only meow to communicate with humans.\",\n",
    "    \"[ERR]: The user has unsubscribed from cat facts!\",\n",
    "    \"[ERR]: 0 users are subscribed\",\n",
    "    \"[WARN]: shutting down.\"\n",
    "]\n",
    "\n",
    "err_printer = print_if_error(\"[ERR]\")\n",
    "next(err_printer)\n",
    "\n",
    "for log in logs:\n",
    "    err_printer.send(log)"
   ]
  },
  {
   "cell_type": "markdown",
   "metadata": {},
   "source": [
    "# Can a generator both produce and receive?\n",
    "\n",
    "Yes, but it can make the behaviour of the code difficult to understand.\n",
    "\n",
    "The example below is a natural use of taking in and returning values in one function. `track_largest` is a function that yields the largest value that it's seen so far. The semantics of how this works is somewhat confusing, and it would not be appropriate to use this in a `for` loop. \n",
    "\n",
    "The execution pauses after a value has been produced, but before a value has been recieved. This partly explains why you must first initialize a coroutine with a call to `next`."
   ]
  },
  {
   "cell_type": "code",
   "execution_count": 3,
   "metadata": {},
   "outputs": [],
   "source": [
    "def track_largest(start=0):\n",
    "    largest = start\n",
    "    while True:\n",
    "        next_val = yield largest\n",
    "        largest = next_val if next_val > largest else largest"
   ]
  },
  {
   "cell_type": "code",
   "execution_count": 4,
   "metadata": {},
   "outputs": [
    {
     "name": "stdout",
     "output_type": "stream",
     "text": [
      "0\n",
      "3\n",
      "3\n",
      "100\n",
      "9000\n"
     ]
    }
   ],
   "source": [
    "tracker = track_largest(0)\n",
    "print(next(tracker))\n",
    "print(tracker.send(3))\n",
    "print(tracker.send(2))\n",
    "print(tracker.send(100))\n",
    "print(tracker.send(9000))"
   ]
  }
 ],
 "metadata": {
  "kernelspec": {
   "display_name": "Python 3",
   "language": "python",
   "name": "python3"
  },
  "language_info": {
   "codemirror_mode": {
    "name": "ipython",
    "version": 3
   },
   "file_extension": ".py",
   "mimetype": "text/x-python",
   "name": "python",
   "nbconvert_exporter": "python",
   "pygments_lexer": "ipython3",
   "version": "3.5.2"
  }
 },
 "nbformat": 4,
 "nbformat_minor": 2
}
