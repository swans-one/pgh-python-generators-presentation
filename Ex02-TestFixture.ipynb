{
 "cells": [
  {
   "cell_type": "code",
   "execution_count": 1,
   "metadata": {},
   "outputs": [],
   "source": [
    "import pytest\n",
    "import sqlite3\n",
    "\n",
    "def create_tables(cursor):\n",
    "    table_schemas = [\n",
    "        'create table abc(a int, b int, c text)',\n",
    "        'create table xyz(x int, y int, z text)',\n",
    "    ]\n",
    "    for schema in table_schemas:\n",
    "        cursor.execute(schema)\n",
    "    \n",
    "@pytest.fixture\n",
    "def sqlite_db():\n",
    "    connection = sqlite3.connect(':memory:')\n",
    "    cursor = connection.cursor()\n",
    "    create_tables(cursor)\n",
    "    \n",
    "    yield cursor\n",
    "    \n",
    "    connection.close()"
   ]
  },
  {
   "cell_type": "code",
   "execution_count": 2,
   "metadata": {},
   "outputs": [],
   "source": [
    "class TestSomeDatabaseStuff:\n",
    "    def test_insert(sqlite_db):\n",
    "        sqlite_db.execute('insert into abc values(1, 2, three)')\n",
    "        result = sqlite_db.execute('select * from abc').fetchall()\n",
    "        assert result == [(1, 2, 'three')]"
   ]
  }
 ],
 "metadata": {
  "kernelspec": {
   "display_name": "Python 3",
   "language": "python",
   "name": "python3"
  },
  "language_info": {
   "codemirror_mode": {
    "name": "ipython",
    "version": 3
   },
   "file_extension": ".py",
   "mimetype": "text/x-python",
   "name": "python",
   "nbconvert_exporter": "python",
   "pygments_lexer": "ipython3",
   "version": "3.5.2"
  }
 },
 "nbformat": 4,
 "nbformat_minor": 2
}
