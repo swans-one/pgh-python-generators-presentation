{
 "cells": [
  {
   "cell_type": "markdown",
   "metadata": {},
   "source": [
    "# Generator expressions are like list-comprehensions\n",
    "\n",
    "Except they don't return a list, they return a generator object. This can have pretty big performance benefits, since you don't have to initialize an entire list. Especially if you're only going to consume a few items, or if the list would be very large."
   ]
  },
  {
   "cell_type": "code",
   "execution_count": 1,
   "metadata": {},
   "outputs": [
    {
     "name": "stdout",
     "output_type": "stream",
     "text": [
      "[1, 2, 2, 1]\n",
      "<generator object <genexpr> at 0x7fa34646ff68>\n"
     ]
    }
   ],
   "source": [
    "numbers = [1, 2, 3, 4, 5, 4, 3, 2, 1]\n",
    "\n",
    "list_comp = [n for n in numbers if n < 3]\n",
    "print(list_comp)\n",
    "\n",
    "gen_exp = (n for n in numbers if n < 3)\n",
    "print(gen_exp)"
   ]
  },
  {
   "cell_type": "markdown",
   "metadata": {},
   "source": [
    "# But they can be iterated over just as easily\n",
    "\n",
    "They're a really quick way to create a iterator, without the overhead of a list."
   ]
  },
  {
   "cell_type": "code",
   "execution_count": 2,
   "metadata": {},
   "outputs": [
    {
     "name": "stdout",
     "output_type": "stream",
     "text": [
      "6 6\n"
     ]
    }
   ],
   "source": [
    "sum_1 = 0\n",
    "for x in list_comp:\n",
    "    sum_1 += x\n",
    "    \n",
    "sum_2 = 0\n",
    "for y in gen_exp:\n",
    "    sum_2 += y\n",
    "    \n",
    "print(sum_1, sum_2)"
   ]
  },
  {
   "cell_type": "markdown",
   "metadata": {},
   "source": [
    "# They're one use only though\n",
    "\n",
    "Note that once you've iterated through a generator expression once, it will just keep raising `StopIteration`. You have to be careful that you don't try to iterate through them multiple times, or you could create subtle bugs."
   ]
  },
  {
   "cell_type": "code",
   "execution_count": 3,
   "metadata": {},
   "outputs": [],
   "source": [
    "for y in gen_exp:\n",
    "    print(y)"
   ]
  },
  {
   "cell_type": "code",
   "execution_count": 4,
   "metadata": {},
   "outputs": [
    {
     "ename": "StopIteration",
     "evalue": "",
     "output_type": "error",
     "traceback": [
      "\u001b[0;31m---------------------------------------------------------------------------\u001b[0m",
      "\u001b[0;31mStopIteration\u001b[0m                             Traceback (most recent call last)",
      "\u001b[0;32m<ipython-input-4-40e43464ade8>\u001b[0m in \u001b[0;36m<module>\u001b[0;34m()\u001b[0m\n\u001b[0;32m----> 1\u001b[0;31m \u001b[0mnext\u001b[0m\u001b[0;34m(\u001b[0m\u001b[0mgen_exp\u001b[0m\u001b[0;34m)\u001b[0m\u001b[0;34m\u001b[0m\u001b[0m\n\u001b[0m",
      "\u001b[0;31mStopIteration\u001b[0m: "
     ]
    }
   ],
   "source": [
    "next(gen_exp)"
   ]
  },
  {
   "cell_type": "code",
   "execution_count": null,
   "metadata": {},
   "outputs": [],
   "source": []
  }
 ],
 "metadata": {
  "kernelspec": {
   "display_name": "Python 3",
   "language": "python",
   "name": "python3"
  },
  "language_info": {
   "codemirror_mode": {
    "name": "ipython",
    "version": 3
   },
   "file_extension": ".py",
   "mimetype": "text/x-python",
   "name": "python",
   "nbconvert_exporter": "python",
   "pygments_lexer": "ipython3",
   "version": "3.5.2"
  }
 },
 "nbformat": 4,
 "nbformat_minor": 2
}
