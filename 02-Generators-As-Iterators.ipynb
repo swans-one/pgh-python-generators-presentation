{
 "cells": [
  {
   "cell_type": "markdown",
   "metadata": {},
   "source": [
    "# Generator functions\n",
    "\n",
    "Defining a generator looks a lot like defining a function, however instead of using `return` we use a different keyword, `yield`. They were introduced to Python with PEP 255 (https://www.python.org/dev/peps/pep-0255/).\n",
    "\n",
    "A generator is used to produce values that can be consumed iteratively. They're useful for when you want to produce a series of values, but there is significant state to track in the process."
   ]
  },
  {
   "cell_type": "code",
   "execution_count": 1,
   "metadata": {},
   "outputs": [],
   "source": [
    "def countdown(n):\n",
    "    while n >= 0:\n",
    "        yield n\n",
    "        n -= 1\n",
    "    print(\"Blastoff\")"
   ]
  },
  {
   "cell_type": "markdown",
   "metadata": {},
   "source": [
    "# But they don't act like functions\n",
    "\n",
    "The type of a generator function is still `function` but when you call it, it does not return the value from the `yield` statement. Instead, it returns an object of type `generator`.\n"
   ]
  },
  {
   "cell_type": "code",
   "execution_count": 2,
   "metadata": {
    "scrolled": true
   },
   "outputs": [
    {
     "name": "stdout",
     "output_type": "stream",
     "text": [
      "<class 'function'>\n",
      "<class 'generator'>\n"
     ]
    }
   ],
   "source": [
    "print(type(countdown))\n",
    "\n",
    "counts_down = countdown(3)\n",
    "print(type(counts_down))"
   ]
  },
  {
   "cell_type": "markdown",
   "metadata": {},
   "source": [
    "# Generators behave like iterators\n",
    "\n",
    "Generators are used to produce values. We most often use `for` loops to consume those values. Just like you can iterate through a list or another object in python, you can iterate through a generator."
   ]
  },
  {
   "cell_type": "code",
   "execution_count": 3,
   "metadata": {},
   "outputs": [
    {
     "name": "stdout",
     "output_type": "stream",
     "text": [
      "5\n",
      "4\n",
      "3\n",
      "2\n",
      "1\n",
      "0\n",
      "Blastoff\n"
     ]
    }
   ],
   "source": [
    "countdown_gen = countdown(5)\n",
    "for item in countdown_gen:\n",
    "    print(item)"
   ]
  },
  {
   "cell_type": "markdown",
   "metadata": {},
   "source": [
    "# They implement the same interface as iterators\n",
    "\n",
    "You can call `iter` on the object returned by calling a generator function, and you can call `next` on the object returned by `iter`. When the iteration is complete, it will raise `StopIteration`\n",
    "\n",
    "# They do so by suspending execution\n",
    "\n",
    "Between each call to `next`, the generator still exists, and is in a state of suspended execution. That means that all sorts of other computation could occur between the different calls to `next`. We'll talk more about the implications of this later."
   ]
  },
  {
   "cell_type": "code",
   "execution_count": 4,
   "metadata": {},
   "outputs": [
    {
     "name": "stdout",
     "output_type": "stream",
     "text": [
      "3\n",
      "2\n",
      "1\n",
      "0\n"
     ]
    }
   ],
   "source": [
    "count_3 = iter(countdown(3))\n",
    "print(next(count_3))\n",
    "print(next(count_3))\n",
    "print(next(count_3))\n",
    "print(next(count_3))"
   ]
  },
  {
   "cell_type": "code",
   "execution_count": 5,
   "metadata": {},
   "outputs": [
    {
     "name": "stdout",
     "output_type": "stream",
     "text": [
      "Blastoff\n"
     ]
    },
    {
     "ename": "StopIteration",
     "evalue": "",
     "output_type": "error",
     "traceback": [
      "\u001b[0;31m---------------------------------------------------------------------------\u001b[0m",
      "\u001b[0;31mStopIteration\u001b[0m                             Traceback (most recent call last)",
      "\u001b[0;32m<ipython-input-5-5f1c17f4080f>\u001b[0m in \u001b[0;36m<module>\u001b[0;34m()\u001b[0m\n\u001b[0;32m----> 1\u001b[0;31m \u001b[0mprint\u001b[0m\u001b[0;34m(\u001b[0m\u001b[0mnext\u001b[0m\u001b[0;34m(\u001b[0m\u001b[0mcount_3\u001b[0m\u001b[0;34m)\u001b[0m\u001b[0;34m)\u001b[0m\u001b[0;34m\u001b[0m\u001b[0m\n\u001b[0m",
      "\u001b[0;31mStopIteration\u001b[0m: "
     ]
    }
   ],
   "source": [
    "print(next(count_3))"
   ]
  },
  {
   "cell_type": "markdown",
   "metadata": {},
   "source": [
    "# And you're not limitted to one yield"
   ]
  },
  {
   "cell_type": "code",
   "execution_count": 7,
   "metadata": {},
   "outputs": [
    {
     "name": "stdout",
     "output_type": "stream",
     "text": [
      "Here\n",
      "We\n",
      "Go\n",
      "Again\n"
     ]
    }
   ],
   "source": [
    "def important_info():\n",
    "    yield \"Here\"\n",
    "    yield \"We\"\n",
    "    yield \"Go\"\n",
    "    yield \"Again\"\n",
    "    \n",
    "for line in important_info():\n",
    "    print(line)"
   ]
  },
  {
   "cell_type": "code",
   "execution_count": null,
   "metadata": {},
   "outputs": [],
   "source": []
  }
 ],
 "metadata": {
  "kernelspec": {
   "display_name": "Python 3",
   "language": "python",
   "name": "python3"
  },
  "language_info": {
   "codemirror_mode": {
    "name": "ipython",
    "version": 3
   },
   "file_extension": ".py",
   "mimetype": "text/x-python",
   "name": "python",
   "nbconvert_exporter": "python",
   "pygments_lexer": "ipython3",
   "version": "3.5.2"
  }
 },
 "nbformat": 4,
 "nbformat_minor": 2
}
