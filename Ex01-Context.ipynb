{
 "cells": [
  {
   "cell_type": "code",
   "execution_count": 1,
   "metadata": {},
   "outputs": [],
   "source": [
    "from contextlib import contextmanager\n",
    "\n",
    "from tempfile import mkstemp\n",
    "import os\n",
    "\n",
    "@contextmanager\n",
    "def temp_file():\n",
    "    handle, path = mkstemp()\n",
    "    f = open(path, 'w+')\n",
    "\n",
    "    yield f\n",
    "\n",
    "    f.close()\n",
    "    os.remove(path)"
   ]
  },
  {
   "cell_type": "code",
   "execution_count": 2,
   "metadata": {},
   "outputs": [
    {
     "name": "stdout",
     "output_type": "stream",
     "text": [
      "/tmp/tmpv88r_y7r\n",
      "test\n",
      "False\n"
     ]
    }
   ],
   "source": [
    "with temp_file() as f:\n",
    "    filename = f.name\n",
    "    print(filename)\n",
    "\n",
    "    f.write('test')\n",
    "    f.seek(0)\n",
    "    print(f.read())\n",
    "\n",
    "print(os.path.exists(filename))"
   ]
  }
 ],
 "metadata": {
  "kernelspec": {
   "display_name": "Python 3",
   "language": "python",
   "name": "python3"
  },
  "language_info": {
   "codemirror_mode": {
    "name": "ipython",
    "version": 3
   },
   "file_extension": ".py",
   "mimetype": "text/x-python",
   "name": "python",
   "nbconvert_exporter": "python",
   "pygments_lexer": "ipython3",
   "version": "3.5.2"
  }
 },
 "nbformat": 4,
 "nbformat_minor": 2
}
