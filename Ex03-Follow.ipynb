{
 "cells": [
  {
   "cell_type": "code",
   "execution_count": null,
   "metadata": {},
   "outputs": [],
   "source": [
    "import time\n",
    "\n",
    "def follow(f):\n",
    "    f.seek(0, 2)\n",
    "    while True:\n",
    "        line = f.readline()\n",
    "        if not line:\n",
    "            time.sleep(0.1)\n",
    "            continue\n",
    "        yield line\n",
    "        \n",
    "def grep(pattern, gen):\n",
    "    for item in gen:\n",
    "        if pattern in item:\n",
    "            yield item"
   ]
  },
  {
   "cell_type": "code",
   "execution_count": null,
   "metadata": {
    "scrolled": true
   },
   "outputs": [],
   "source": [
    "with open('./fake_log.txt') as f:\n",
    "    for line in follow(f):\n",
    "        print(line, end=\"\")"
   ]
  },
  {
   "cell_type": "code",
   "execution_count": null,
   "metadata": {},
   "outputs": [],
   "source": [
    "with open('./fake_log.txt') as f:\n",
    "    all_lines = follow(f)\n",
    "    error_lines = grep('[ERR]', all_lines)\n",
    "    subscribe_error_lines = grep('subscribe', error_lines)\n",
    "    for line in subscribe_error_lines:\n",
    "        print(line)"
   ]
  }
 ],
 "metadata": {
  "kernelspec": {
   "display_name": "Python 3",
   "language": "python",
   "name": "python3"
  },
  "language_info": {
   "codemirror_mode": {
    "name": "ipython",
    "version": 3
   },
   "file_extension": ".py",
   "mimetype": "text/x-python",
   "name": "python",
   "nbconvert_exporter": "python",
   "pygments_lexer": "ipython3",
   "version": "3.5.2"
  }
 },
 "nbformat": 4,
 "nbformat_minor": 2
}
